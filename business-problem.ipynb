{
 "cells": [
  {
   "cell_type": "markdown",
   "metadata": {},
   "source": [
    "# Business Problem\n",
    "----------"
   ]
  },
  {
   "cell_type": "markdown",
   "metadata": {},
   "source": [
    "As a restaurant owner, finding a location in a new city can have a variety of problems and issues, especially when you do not know the city. There is a plethora of information out there to research and compare, but information overload can set in quickly. Let us suppose that the owner is doing quite well in the current area and wants to find a similar neighborhood in a different city. You like the blend and density of the population and other restaurants near your location, which provides a unique space in the landscape of food choice. \n",
    "\n",
    "To narrow down the choices, a map and a list can show the similar neighborhoods which have the blends of the restaurants, population and income level for the known city so it can be compared to the new city. In this example, the two cities that I will be comparing are St. Louis, Missouri and Dallas, Texas.\n"
   ]
  }
 ],
 "metadata": {
  "kernelspec": {
   "display_name": "Python 3",
   "language": "python",
   "name": "python3"
  },
  "language_info": {
   "codemirror_mode": {
    "name": "ipython",
    "version": 3
   },
   "file_extension": ".py",
   "mimetype": "text/x-python",
   "name": "python",
   "nbconvert_exporter": "python",
   "pygments_lexer": "ipython3",
   "version": "3.6.7"
  }
 },
 "nbformat": 4,
 "nbformat_minor": 4
}
