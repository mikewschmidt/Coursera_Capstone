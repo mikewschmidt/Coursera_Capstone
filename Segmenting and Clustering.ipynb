{
    "nbformat_minor": 1, 
    "cells": [
        {
            "source": "# Segmenting and Clustering Neighborhoods in Toronto\n---------\nApplied Data Science Capstone > \nWeek 3", 
            "cell_type": "markdown", 
            "metadata": {
                "collapsed": true
            }
        }, 
        {
            "execution_count": 137, 
            "cell_type": "code", 
            "metadata": {}, 
            "outputs": [], 
            "source": "from bs4 import BeautifulSoup\nimport pandas as pd\nimport numpy as np\nimport requests\n"
        }, 
        {
            "source": "### Download wikipedia page and parse columns", 
            "cell_type": "markdown", 
            "metadata": {}
        }, 
        {
            "execution_count": 266, 
            "cell_type": "code", 
            "metadata": {}, 
            "outputs": [
                {
                    "execution_count": 266, 
                    "metadata": {}, 
                    "data": {
                        "text/plain": "['Postcode', 'Borough', 'Neighbourhood']"
                    }, 
                    "output_type": "execute_result"
                }
            ], 
            "source": "page = requests.get('https://en.wikipedia.org/wiki/List_of_postal_codes_of_Canada:_M').text\nsoup = BeautifulSoup(page, 'html.parser')\npost_table = soup.find('table')\n#post_table.tr.find_all('th')\ncolumn_titles = [i.text.replace('\\n','') for i in post_table.tr.find_all('th')]\ncolumn_titles"
        }, 
        {
            "source": "### Parse out the rows ", 
            "cell_type": "markdown", 
            "metadata": {}
        }, 
        {
            "execution_count": 267, 
            "cell_type": "code", 
            "metadata": {}, 
            "outputs": [
                {
                    "execution_count": 267, 
                    "metadata": {}, 
                    "data": {
                        "text/plain": "[['M1A', 'Not assigned', 'Not assigned'],\n ['M2A', 'Not assigned', 'Not assigned'],\n ['M3A', 'North York', 'Parkwoods'],\n ['M4A', 'North York', 'Victoria Village'],\n ['M5A', 'Downtown Toronto', 'Harbourfront']]"
                    }, 
                    "output_type": "execute_result"
                }
            ], 
            "source": "data = []\nrows = post_table.find_all('tr') \nfor num in range(1, len(rows)):\n    temp = rows[num].text.split('\\n')\n    temp = list(filter(None, temp))  # Filter out the empty elements\n    data.append(temp)\n    \n#rows = soup.find('table').find_all('tr')[1].text.split('\\n')\n#rows = list(filter(None, rows))\ndata[:5]"
        }, 
        {
            "source": "### Create a dataframe with the data", 
            "cell_type": "markdown", 
            "metadata": {}
        }, 
        {
            "execution_count": 268, 
            "cell_type": "code", 
            "metadata": {}, 
            "outputs": [
                {
                    "execution_count": 268, 
                    "metadata": {}, 
                    "data": {
                        "text/html": "<div>\n<style scoped>\n    .dataframe tbody tr th:only-of-type {\n        vertical-align: middle;\n    }\n\n    .dataframe tbody tr th {\n        vertical-align: top;\n    }\n\n    .dataframe thead th {\n        text-align: right;\n    }\n</style>\n<table border=\"1\" class=\"dataframe\">\n  <thead>\n    <tr style=\"text-align: right;\">\n      <th></th>\n      <th>Postcode</th>\n      <th>Borough</th>\n      <th>Neighbourhood</th>\n    </tr>\n  </thead>\n  <tbody>\n    <tr>\n      <th>0</th>\n      <td>M1A</td>\n      <td>Not assigned</td>\n      <td>Not assigned</td>\n    </tr>\n    <tr>\n      <th>1</th>\n      <td>M2A</td>\n      <td>Not assigned</td>\n      <td>Not assigned</td>\n    </tr>\n    <tr>\n      <th>2</th>\n      <td>M3A</td>\n      <td>North York</td>\n      <td>Parkwoods</td>\n    </tr>\n    <tr>\n      <th>3</th>\n      <td>M4A</td>\n      <td>North York</td>\n      <td>Victoria Village</td>\n    </tr>\n    <tr>\n      <th>4</th>\n      <td>M5A</td>\n      <td>Downtown Toronto</td>\n      <td>Harbourfront</td>\n    </tr>\n  </tbody>\n</table>\n</div>", 
                        "text/plain": "  Postcode           Borough     Neighbourhood\n0      M1A      Not assigned      Not assigned\n1      M2A      Not assigned      Not assigned\n2      M3A        North York         Parkwoods\n3      M4A        North York  Victoria Village\n4      M5A  Downtown Toronto      Harbourfront"
                    }, 
                    "output_type": "execute_result"
                }
            ], 
            "source": "df_all = pd.DataFrame(data=data, columns=column_titles)\ndf_all.head()"
        }, 
        {
            "source": "### Remove rows with borough that is \"Not assigned\"", 
            "cell_type": "markdown", 
            "metadata": {}
        }, 
        {
            "execution_count": 269, 
            "cell_type": "code", 
            "metadata": {}, 
            "outputs": [
                {
                    "execution_count": 269, 
                    "metadata": {}, 
                    "data": {
                        "text/html": "<div>\n<style scoped>\n    .dataframe tbody tr th:only-of-type {\n        vertical-align: middle;\n    }\n\n    .dataframe tbody tr th {\n        vertical-align: top;\n    }\n\n    .dataframe thead th {\n        text-align: right;\n    }\n</style>\n<table border=\"1\" class=\"dataframe\">\n  <thead>\n    <tr style=\"text-align: right;\">\n      <th></th>\n      <th>Postcode</th>\n      <th>Borough</th>\n      <th>Neighbourhood</th>\n    </tr>\n  </thead>\n  <tbody>\n    <tr>\n      <th>2</th>\n      <td>M3A</td>\n      <td>North York</td>\n      <td>Parkwoods</td>\n    </tr>\n    <tr>\n      <th>3</th>\n      <td>M4A</td>\n      <td>North York</td>\n      <td>Victoria Village</td>\n    </tr>\n    <tr>\n      <th>4</th>\n      <td>M5A</td>\n      <td>Downtown Toronto</td>\n      <td>Harbourfront</td>\n    </tr>\n    <tr>\n      <th>5</th>\n      <td>M5A</td>\n      <td>Downtown Toronto</td>\n      <td>Regent Park</td>\n    </tr>\n    <tr>\n      <th>6</th>\n      <td>M6A</td>\n      <td>North York</td>\n      <td>Lawrence Heights</td>\n    </tr>\n  </tbody>\n</table>\n</div>", 
                        "text/plain": "  Postcode           Borough     Neighbourhood\n2      M3A        North York         Parkwoods\n3      M4A        North York  Victoria Village\n4      M5A  Downtown Toronto      Harbourfront\n5      M5A  Downtown Toronto       Regent Park\n6      M6A        North York  Lawrence Heights"
                    }, 
                    "output_type": "execute_result"
                }
            ], 
            "source": "df_all = df_all.loc[df_all['Borough'] != 'Not assigned'] \ndf_all.head()"
        }, 
        {
            "source": "### Combine neighborhoods in the same zipcode", 
            "cell_type": "markdown", 
            "metadata": {}
        }, 
        {
            "execution_count": 270, 
            "cell_type": "code", 
            "metadata": {}, 
            "outputs": [
                {
                    "execution_count": 270, 
                    "metadata": {}, 
                    "data": {
                        "text/html": "<div>\n<style scoped>\n    .dataframe tbody tr th:only-of-type {\n        vertical-align: middle;\n    }\n\n    .dataframe tbody tr th {\n        vertical-align: top;\n    }\n\n    .dataframe thead th {\n        text-align: right;\n    }\n</style>\n<table border=\"1\" class=\"dataframe\">\n  <thead>\n    <tr style=\"text-align: right;\">\n      <th></th>\n      <th>Postcode</th>\n      <th>Borough</th>\n      <th>Neighbourhood</th>\n    </tr>\n  </thead>\n  <tbody>\n    <tr>\n      <th>0</th>\n      <td>M3A</td>\n      <td>North York</td>\n      <td>Parkwoods</td>\n    </tr>\n    <tr>\n      <th>1</th>\n      <td>M4A</td>\n      <td>North York</td>\n      <td>Victoria Village</td>\n    </tr>\n    <tr>\n      <th>2</th>\n      <td>M5A</td>\n      <td>Downtown Toronto</td>\n      <td>Harbourfront,  Regent Park</td>\n    </tr>\n    <tr>\n      <th>3</th>\n      <td>M6A</td>\n      <td>North York</td>\n      <td>Lawrence Heights,   Lawrence Manor</td>\n    </tr>\n    <tr>\n      <th>4</th>\n      <td>M7A</td>\n      <td>Queen's Park</td>\n      <td>Not assigned</td>\n    </tr>\n  </tbody>\n</table>\n</div>", 
                        "text/plain": "  Postcode           Borough                       Neighbourhood\n0      M3A        North York                           Parkwoods\n1      M4A        North York                    Victoria Village\n2      M5A  Downtown Toronto          Harbourfront,  Regent Park\n3      M6A        North York  Lawrence Heights,   Lawrence Manor\n4      M7A      Queen's Park                        Not assigned"
                    }, 
                    "output_type": "execute_result"
                }
            ], 
            "source": "unique_post = df_all['Postcode'].unique() # Get all the unique postcodes\ndf = pd.DataFrame(columns=column_titles) # create the new dataframe\n\n# Loop through the unique postcodes and insert data\nfor i, p in enumerate(unique_post):\n    hood = df_all['Neighbourhood'].loc[df_all['Postcode'] == p].to_string(index=False).strip().replace('\\n',\",\")\n    borough = df_all['Borough'].loc[df_all['Postcode'] == p].head(1).to_string(index=False).strip()\n    df.loc[i] = [p, borough, hood]\n\ndf.head()"
        }, 
        {
            "source": "### Copy the Borough's name to the \"Not assigned\" Neighborhood's name", 
            "cell_type": "markdown", 
            "metadata": {}
        }, 
        {
            "execution_count": 271, 
            "cell_type": "code", 
            "metadata": {}, 
            "outputs": [
                {
                    "execution_count": 271, 
                    "metadata": {}, 
                    "data": {
                        "text/html": "<div>\n<style scoped>\n    .dataframe tbody tr th:only-of-type {\n        vertical-align: middle;\n    }\n\n    .dataframe tbody tr th {\n        vertical-align: top;\n    }\n\n    .dataframe thead th {\n        text-align: right;\n    }\n</style>\n<table border=\"1\" class=\"dataframe\">\n  <thead>\n    <tr style=\"text-align: right;\">\n      <th></th>\n      <th>Postcode</th>\n      <th>Borough</th>\n      <th>Neighbourhood</th>\n    </tr>\n  </thead>\n  <tbody>\n    <tr>\n      <th>0</th>\n      <td>M3A</td>\n      <td>North York</td>\n      <td>Parkwoods</td>\n    </tr>\n    <tr>\n      <th>1</th>\n      <td>M4A</td>\n      <td>North York</td>\n      <td>Victoria Village</td>\n    </tr>\n    <tr>\n      <th>2</th>\n      <td>M5A</td>\n      <td>Downtown Toronto</td>\n      <td>Harbourfront,  Regent Park</td>\n    </tr>\n    <tr>\n      <th>3</th>\n      <td>M6A</td>\n      <td>North York</td>\n      <td>Lawrence Heights,   Lawrence Manor</td>\n    </tr>\n    <tr>\n      <th>4</th>\n      <td>M7A</td>\n      <td>Queen's Park</td>\n      <td>Queen's Park</td>\n    </tr>\n  </tbody>\n</table>\n</div>", 
                        "text/plain": "  Postcode           Borough                       Neighbourhood\n0      M3A        North York                           Parkwoods\n1      M4A        North York                    Victoria Village\n2      M5A  Downtown Toronto          Harbourfront,  Regent Park\n3      M6A        North York  Lawrence Heights,   Lawrence Manor\n4      M7A      Queen's Park                        Queen's Park"
                    }, 
                    "output_type": "execute_result"
                }
            ], 
            "source": "for i, row in df.iterrows():\n    if row['Neighbourhood'] == 'Not assigned':\n        row['Neighbourhood'] =  row['Borough']    \n\ndf.head()"
        }, 
        {
            "source": "", 
            "cell_type": "markdown", 
            "metadata": {}
        }, 
        {
            "execution_count": null, 
            "cell_type": "code", 
            "metadata": {}, 
            "outputs": [], 
            "source": ""
        }
    ], 
    "metadata": {
        "kernelspec": {
            "display_name": "Python 3.6", 
            "name": "python3", 
            "language": "python"
        }, 
        "language_info": {
            "mimetype": "text/x-python", 
            "nbconvert_exporter": "python", 
            "version": "3.6.8", 
            "name": "python", 
            "file_extension": ".py", 
            "pygments_lexer": "ipython3", 
            "codemirror_mode": {
                "version": 3, 
                "name": "ipython"
            }
        }
    }, 
    "nbformat": 4
}