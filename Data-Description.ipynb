{
 "cells": [
  {
   "cell_type": "markdown",
   "metadata": {},
   "source": [
    "# Data Description\n",
    "----------"
   ]
  },
  {
   "cell_type": "markdown",
   "metadata": {},
   "source": [
    "The important data that we need to find for both cities are the following:\n",
    "- Population density\n",
    "- Median household income\n",
    "- Average number of restaurant categories\n",
    "\n",
    "I will organize and group all the data by zip code and run a clustering algorithm to find similar areas. Then, color code the resulting clusters on a geographical map.\n",
    "The data sources needed are the following:\n",
    "- uszipcode library from Python Software Foundation (author: Sanhe Hu)\n",
    "    - Will give us all the zip codes, income and population data for the given zip codes\n",
    "- Foursquare API\n",
    "    - Will give us all the restaurants within a 2 miles radius of each zip code \n"
   ]
  },
  {
   "cell_type": "code",
   "execution_count": null,
   "metadata": {},
   "outputs": [],
   "source": []
  }
 ],
 "metadata": {
  "kernelspec": {
   "display_name": "Python 3",
   "language": "python",
   "name": "python3"
  },
  "language_info": {
   "codemirror_mode": {
    "name": "ipython",
    "version": 3
   },
   "file_extension": ".py",
   "mimetype": "text/x-python",
   "name": "python",
   "nbconvert_exporter": "python",
   "pygments_lexer": "ipython3",
   "version": "3.6.7"
  }
 },
 "nbformat": 4,
 "nbformat_minor": 4
}
